{
 "cells": [
  {
   "cell_type": "markdown",
   "metadata": {
    "deletable": true,
    "editable": true
   },
   "source": [
    "CT475 December 2017/2018 Assignment 3 - Neural Net Owl type prediction\n",
    "--------------\n"
   ]
  },
  {
   "cell_type": "code",
   "execution_count": 1,
   "metadata": {
    "collapsed": false,
    "deletable": true,
    "editable": true
   },
   "outputs": [],
   "source": [
    "import numpy as np\n",
    "import matplotlib.pyplot as plt\n",
    "import h5py\n",
    "import scipy\n",
    "from scipy import ndimage\n",
    "import pandas as pd\n",
    "from sklearn.preprocessing import MultiLabelBinarizer\n",
    "from sklearn.model_selection import train_test_split\n",
    "import time\n",
    "from functools import *\n",
    "import seaborn as sns\n",
    "%matplotlib inline\n"
   ]
  },
  {
   "cell_type": "markdown",
   "metadata": {
    "deletable": true,
    "editable": true
   },
   "source": [
    "Reading data file into dataframe\n",
    "-------------\n",
    "\n",
    "owls15.csv is required to be located in same dir as notebook."
   ]
  },
  {
   "cell_type": "code",
   "execution_count": 2,
   "metadata": {
    "collapsed": false,
    "deletable": true,
    "editable": true
   },
   "outputs": [
    {
     "data": {
      "text/html": [
       "<div>\n",
       "<table border=\"1\" class=\"dataframe\">\n",
       "  <thead>\n",
       "    <tr style=\"text-align: right;\">\n",
       "      <th></th>\n",
       "      <th>0</th>\n",
       "      <th>1</th>\n",
       "      <th>2</th>\n",
       "      <th>3</th>\n",
       "      <th>4</th>\n",
       "    </tr>\n",
       "  </thead>\n",
       "  <tbody>\n",
       "    <tr>\n",
       "      <th>0</th>\n",
       "      <td>3.0</td>\n",
       "      <td>5.0</td>\n",
       "      <td>1.6</td>\n",
       "      <td>0.2</td>\n",
       "      <td>LongEaredOwl</td>\n",
       "    </tr>\n",
       "    <tr>\n",
       "      <th>1</th>\n",
       "      <td>3.2</td>\n",
       "      <td>4.7</td>\n",
       "      <td>1.6</td>\n",
       "      <td>0.2</td>\n",
       "      <td>LongEaredOwl</td>\n",
       "    </tr>\n",
       "    <tr>\n",
       "      <th>2</th>\n",
       "      <td>3.4</td>\n",
       "      <td>4.6</td>\n",
       "      <td>1.4</td>\n",
       "      <td>0.3</td>\n",
       "      <td>LongEaredOwl</td>\n",
       "    </tr>\n",
       "    <tr>\n",
       "      <th>3</th>\n",
       "      <td>3.6</td>\n",
       "      <td>5.0</td>\n",
       "      <td>1.4</td>\n",
       "      <td>0.2</td>\n",
       "      <td>LongEaredOwl</td>\n",
       "    </tr>\n",
       "    <tr>\n",
       "      <th>4</th>\n",
       "      <td>4.1</td>\n",
       "      <td>5.2</td>\n",
       "      <td>1.5</td>\n",
       "      <td>0.1</td>\n",
       "      <td>LongEaredOwl</td>\n",
       "    </tr>\n",
       "  </tbody>\n",
       "</table>\n",
       "</div>"
      ],
      "text/plain": [
       "     0    1    2    3             4\n",
       "0  3.0  5.0  1.6  0.2  LongEaredOwl\n",
       "1  3.2  4.7  1.6  0.2  LongEaredOwl\n",
       "2  3.4  4.6  1.4  0.3  LongEaredOwl\n",
       "3  3.6  5.0  1.4  0.2  LongEaredOwl\n",
       "4  4.1  5.2  1.5  0.1  LongEaredOwl"
      ]
     },
     "execution_count": 2,
     "metadata": {},
     "output_type": "execute_result"
    }
   ],
   "source": [
    "df = pd.read_csv('./owls15.csv' , header = None)\n",
    "df.head(5)"
   ]
  },
  {
   "cell_type": "markdown",
   "metadata": {
    "deletable": true,
    "editable": true
   },
   "source": [
    "Preprocessing\n",
    "---------------\n",
    "\n",
    "Set columns headers of dataframe"
   ]
  },
  {
   "cell_type": "code",
   "execution_count": 3,
   "metadata": {
    "collapsed": false,
    "deletable": true,
    "editable": true
   },
   "outputs": [
    {
     "data": {
      "text/html": [
       "<div>\n",
       "<table border=\"1\" class=\"dataframe\">\n",
       "  <thead>\n",
       "    <tr style=\"text-align: right;\">\n",
       "      <th></th>\n",
       "      <th>body-length</th>\n",
       "      <th>wing-length</th>\n",
       "      <th>body-width</th>\n",
       "      <th>wing-width</th>\n",
       "      <th>type</th>\n",
       "    </tr>\n",
       "  </thead>\n",
       "  <tbody>\n",
       "    <tr>\n",
       "      <th>0</th>\n",
       "      <td>3.0</td>\n",
       "      <td>5.0</td>\n",
       "      <td>1.6</td>\n",
       "      <td>0.2</td>\n",
       "      <td>LongEaredOwl</td>\n",
       "    </tr>\n",
       "    <tr>\n",
       "      <th>1</th>\n",
       "      <td>3.2</td>\n",
       "      <td>4.7</td>\n",
       "      <td>1.6</td>\n",
       "      <td>0.2</td>\n",
       "      <td>LongEaredOwl</td>\n",
       "    </tr>\n",
       "  </tbody>\n",
       "</table>\n",
       "</div>"
      ],
      "text/plain": [
       "   body-length  wing-length  body-width  wing-width          type\n",
       "0          3.0          5.0         1.6         0.2  LongEaredOwl\n",
       "1          3.2          4.7         1.6         0.2  LongEaredOwl"
      ]
     },
     "execution_count": 3,
     "metadata": {},
     "output_type": "execute_result"
    }
   ],
   "source": [
    "df.columns = ['body-length', 'wing-length', 'body-width', 'wing-width', 'type']\n",
    "df.head(2)"
   ]
  },
  {
   "cell_type": "markdown",
   "metadata": {
    "deletable": true,
    "editable": true
   },
   "source": [
    "Categorically encode type to 1 or 2 or 3"
   ]
  },
  {
   "cell_type": "code",
   "execution_count": 4,
   "metadata": {
    "collapsed": false,
    "deletable": true,
    "editable": true
   },
   "outputs": [
    {
     "data": {
      "text/html": [
       "<div>\n",
       "<table border=\"1\" class=\"dataframe\">\n",
       "  <thead>\n",
       "    <tr style=\"text-align: right;\">\n",
       "      <th></th>\n",
       "      <th>body-length</th>\n",
       "      <th>wing-length</th>\n",
       "      <th>body-width</th>\n",
       "      <th>wing-width</th>\n",
       "      <th>type</th>\n",
       "      <th>typeCategory</th>\n",
       "    </tr>\n",
       "  </thead>\n",
       "  <tbody>\n",
       "    <tr>\n",
       "      <th>0</th>\n",
       "      <td>3.0</td>\n",
       "      <td>5.0</td>\n",
       "      <td>1.6</td>\n",
       "      <td>0.2</td>\n",
       "      <td>LongEaredOwl</td>\n",
       "      <td>1</td>\n",
       "    </tr>\n",
       "    <tr>\n",
       "      <th>1</th>\n",
       "      <td>3.2</td>\n",
       "      <td>4.7</td>\n",
       "      <td>1.6</td>\n",
       "      <td>0.2</td>\n",
       "      <td>LongEaredOwl</td>\n",
       "      <td>1</td>\n",
       "    </tr>\n",
       "  </tbody>\n",
       "</table>\n",
       "</div>"
      ],
      "text/plain": [
       "   body-length  wing-length  body-width  wing-width          type typeCategory\n",
       "0          3.0          5.0         1.6         0.2  LongEaredOwl            1\n",
       "1          3.2          4.7         1.6         0.2  LongEaredOwl            1"
      ]
     },
     "execution_count": 4,
     "metadata": {},
     "output_type": "execute_result"
    }
   ],
   "source": [
    "typeCategory = pd.Series(df.type.astype('category').cat.codes.as_matrix()).to_frame('Type_Cat')\n",
    "df['typeCategory'] = typeCategory\n",
    "df[['typeCategory']] = df[['typeCategory']].astype(str) \n",
    "df.head(2)"
   ]
  },
  {
   "cell_type": "markdown",
   "metadata": {
    "deletable": true,
    "editable": true
   },
   "source": [
    "Normalize the feature columns so that it is range between current value - minimum for column / column max - column min"
   ]
  },
  {
   "cell_type": "code",
   "execution_count": 5,
   "metadata": {
    "collapsed": false,
    "deletable": true,
    "editable": true
   },
   "outputs": [
    {
     "data": {
      "text/html": [
       "<div>\n",
       "<table border=\"1\" class=\"dataframe\">\n",
       "  <thead>\n",
       "    <tr style=\"text-align: right;\">\n",
       "      <th></th>\n",
       "      <th>body-length</th>\n",
       "      <th>wing-length</th>\n",
       "      <th>body-width</th>\n",
       "      <th>wing-width</th>\n",
       "    </tr>\n",
       "  </thead>\n",
       "  <tbody>\n",
       "    <tr>\n",
       "      <th>0</th>\n",
       "      <td>0.454545</td>\n",
       "      <td>0.205882</td>\n",
       "      <td>0.101695</td>\n",
       "      <td>0.041667</td>\n",
       "    </tr>\n",
       "    <tr>\n",
       "      <th>1</th>\n",
       "      <td>0.545455</td>\n",
       "      <td>0.117647</td>\n",
       "      <td>0.101695</td>\n",
       "      <td>0.041667</td>\n",
       "    </tr>\n",
       "  </tbody>\n",
       "</table>\n",
       "</div>"
      ],
      "text/plain": [
       "   body-length  wing-length  body-width  wing-width\n",
       "0     0.454545     0.205882    0.101695    0.041667\n",
       "1     0.545455     0.117647    0.101695    0.041667"
      ]
     },
     "execution_count": 5,
     "metadata": {},
     "output_type": "execute_result"
    }
   ],
   "source": [
    "dfNorm = df[['body-length', 'wing-length', 'body-width', 'wing-width']].apply(lambda x: (x - x.min()) / (x.max() - x.min()))\n",
    "dfNorm.head(2)\n"
   ]
  },
  {
   "cell_type": "markdown",
   "metadata": {
    "deletable": true,
    "editable": true
   },
   "source": [
    "One hot encode type\n",
    "-------------"
   ]
  },
  {
   "cell_type": "code",
   "execution_count": 6,
   "metadata": {
    "collapsed": false,
    "deletable": true,
    "editable": true
   },
   "outputs": [],
   "source": [
    "p = df['type']\n",
    "mlb = MultiLabelBinarizer()\n",
    "oneHotType = mlb.fit_transform(p.as_matrix())"
   ]
  },
  {
   "cell_type": "code",
   "execution_count": 7,
   "metadata": {
    "collapsed": false,
    "deletable": true,
    "editable": true
   },
   "outputs": [],
   "source": [
    "p = df['typeCategory']\n",
    "mlb = MultiLabelBinarizer()\n",
    "oneHotTypeCat = mlb.fit_transform(p.as_matrix())"
   ]
  },
  {
   "cell_type": "markdown",
   "metadata": {
    "deletable": true,
    "editable": true
   },
   "source": [
    "Append one hot encoded columns of string type and ctegorical type to dataframe"
   ]
  },
  {
   "cell_type": "code",
   "execution_count": 8,
   "metadata": {
    "collapsed": false,
    "deletable": true,
    "editable": true
   },
   "outputs": [
    {
     "data": {
      "text/html": [
       "<div>\n",
       "<table border=\"1\" class=\"dataframe\">\n",
       "  <thead>\n",
       "    <tr style=\"text-align: right;\">\n",
       "      <th></th>\n",
       "      <th>body-length</th>\n",
       "      <th>wing-length</th>\n",
       "      <th>body-width</th>\n",
       "      <th>wing-width</th>\n",
       "      <th>type</th>\n",
       "      <th>typeCategory</th>\n",
       "      <th>oneHotEncodedType</th>\n",
       "      <th>oneHotTypeCat</th>\n",
       "    </tr>\n",
       "  </thead>\n",
       "  <tbody>\n",
       "    <tr>\n",
       "      <th>0</th>\n",
       "      <td>3.0</td>\n",
       "      <td>5.0</td>\n",
       "      <td>1.6</td>\n",
       "      <td>0.2</td>\n",
       "      <td>LongEaredOwl</td>\n",
       "      <td>1</td>\n",
       "      <td>011101111111110</td>\n",
       "      <td>010</td>\n",
       "    </tr>\n",
       "    <tr>\n",
       "      <th>1</th>\n",
       "      <td>3.2</td>\n",
       "      <td>4.7</td>\n",
       "      <td>1.6</td>\n",
       "      <td>0.2</td>\n",
       "      <td>LongEaredOwl</td>\n",
       "      <td>1</td>\n",
       "      <td>011101111111110</td>\n",
       "      <td>010</td>\n",
       "    </tr>\n",
       "  </tbody>\n",
       "</table>\n",
       "</div>"
      ],
      "text/plain": [
       "   body-length  wing-length  body-width  wing-width          type  \\\n",
       "0          3.0          5.0         1.6         0.2  LongEaredOwl   \n",
       "1          3.2          4.7         1.6         0.2  LongEaredOwl   \n",
       "\n",
       "  typeCategory oneHotEncodedType oneHotTypeCat  \n",
       "0            1   011101111111110           010  \n",
       "1            1   011101111111110           010  "
      ]
     },
     "execution_count": 8,
     "metadata": {},
     "output_type": "execute_result"
    }
   ],
   "source": [
    "oneHotTypeAsStr = list(map(lambda x  : ''.join(map(str, x)) , oneHotType))\n",
    "oneHotTypeCatAsStr = list(map(lambda x  : ''.join(map(str, x)) , oneHotTypeCat))\n",
    "df['oneHotEncodedType'] = oneHotTypeAsStr\n",
    "df['oneHotTypeCat'] = oneHotTypeCatAsStr\n",
    "df.head(2)"
   ]
  },
  {
   "cell_type": "markdown",
   "metadata": {
    "deletable": true,
    "editable": true
   },
   "source": [
    "Define prediction data\n",
    "-----------\n",
    "\n",
    "Although I one hot encode type and category I just used the one hot encoding of category as prediction target to train model."
   ]
  },
  {
   "cell_type": "code",
   "execution_count": 9,
   "metadata": {
    "collapsed": false,
    "deletable": true,
    "editable": true
   },
   "outputs": [
    {
     "data": {
      "text/plain": [
       "(135, 3)"
      ]
     },
     "execution_count": 9,
     "metadata": {},
     "output_type": "execute_result"
    }
   ],
   "source": [
    "train_set_y = np.asarray(list(map(lambda x :   list(map(int, list(x))), df['oneHotTypeCat'].as_matrix())))\n",
    "train_set_y.shape"
   ]
  },
  {
   "cell_type": "markdown",
   "metadata": {
    "deletable": true,
    "editable": true
   },
   "source": [
    "Split training and test data into 2/3 and 1/3 training and test sets respectively.\n",
    "------------\n",
    "\n",
    "As per doc http://scikit-learn.org/stable/modules/generated/sklearn.model_selection.train_test_split.html train_test_split splits randomly by default \"Split arrays or matrices into random train and test subsets\""
   ]
  },
  {
   "cell_type": "code",
   "execution_count": 10,
   "metadata": {
    "collapsed": false,
    "deletable": true,
    "editable": true
   },
   "outputs": [],
   "source": [
    "X_train, X_test, Y_train, Y_test = train_test_split(dfNorm, train_set_y, test_size=0.33)\n"
   ]
  },
  {
   "cell_type": "markdown",
   "metadata": {
    "deletable": true,
    "editable": true
   },
   "source": [
    "Define activation function\n",
    "----------\n",
    "\n",
    "For this assignment using Sigmoid activation function."
   ]
  },
  {
   "cell_type": "code",
   "execution_count": 11,
   "metadata": {
    "collapsed": true,
    "deletable": true,
    "editable": true
   },
   "outputs": [],
   "source": [
    "def sigmoid(z):\n",
    "    s = 1 / (1 + np.exp(-z))  \n",
    "    return s"
   ]
  },
  {
   "cell_type": "markdown",
   "metadata": {
    "deletable": true,
    "editable": true
   },
   "source": [
    "Forward / Backward propagation\n",
    "---------------\n",
    "\n",
    "The gradients dictionary contains the partial derivative values for the weights and bias vectors."
   ]
  },
  {
   "cell_type": "code",
   "execution_count": 12,
   "metadata": {
    "collapsed": true,
    "deletable": true,
    "editable": true
   },
   "outputs": [],
   "source": [
    "def propagate(Y, X, numberTrainingExamples, w , b):\n",
    "\n",
    "    A = sigmoid(np.dot(w , X) + b)\n",
    "\n",
    "    cost = - (1 / numberTrainingExamples)*(Y * np.log(A) + (1-Y) * (1-np.log(A))).sum(axis=0)\n",
    "    cost = cost.mean();\n",
    "    \n",
    "    dw =  ( 1 / numberTrainingExamples ) * np.dot((A - Y) , X.T / numberTrainingExamples)\n",
    "    db =  (A - Y).mean(axis=1, keepdims=True)\n",
    "\n",
    "    gradients = {\"dw\": dw,\n",
    "             \"db\": db}\n",
    "\n",
    "    return gradients, cost"
   ]
  },
  {
   "cell_type": "markdown",
   "metadata": {
    "deletable": true,
    "editable": true
   },
   "source": [
    "Gradient Descent\n",
    "--------------\n",
    "\n",
    "The first iteration of this loop is forward propagation as computing an initial value for the weights and bias. Subsequent iterations compute the weights and bias by back propagating the current weights and bias by re-invoking propagate function."
   ]
  },
  {
   "cell_type": "code",
   "execution_count": 13,
   "metadata": {
    "collapsed": true,
    "deletable": true,
    "editable": true
   },
   "outputs": [],
   "source": [
    "def optimize(w , b, Y , X, num_iterations, learning_rate):\n",
    "\n",
    "    for i in range(num_iterations):\n",
    "\n",
    "        gradients, cost = propagate(Y, X, len(X), w , b)\n",
    "\n",
    "        dw = gradients[\"dw\"]\n",
    "        db = gradients[\"db\"]\n",
    "\n",
    "        w = w - learning_rate * dw\n",
    "        b = b - learning_rate * db\n",
    "\n",
    "        if i % 20000 == 0:\n",
    "            print(cost)\n",
    "            \n",
    "        if i == 49999:\n",
    "            print('Final cost ' , cost)\n",
    "\n",
    "    return w , b"
   ]
  },
  {
   "cell_type": "markdown",
   "metadata": {
    "deletable": true,
    "editable": true
   },
   "source": [
    "Setup model parameters\n",
    "------------"
   ]
  },
  {
   "cell_type": "code",
   "execution_count": 14,
   "metadata": {
    "collapsed": true,
    "deletable": true,
    "editable": true
   },
   "outputs": [],
   "source": [
    "lrate = 0.0001"
   ]
  },
  {
   "cell_type": "markdown",
   "metadata": {
    "collapsed": false,
    "deletable": true,
    "editable": true
   },
   "source": [
    "Train model on training set\n",
    "-------------\n",
    "\n",
    "reshaped_x will match number of features of X (input) attributes.\n",
    "\n",
    "reshaped_y will match number of features of Y (output) attributes."
   ]
  },
  {
   "cell_type": "code",
   "execution_count": 15,
   "metadata": {
    "collapsed": true,
    "deletable": true,
    "editable": true
   },
   "outputs": [],
   "source": [
    "def model(X_train, Y_train, num_iterations, learning_rate):\n",
    "\n",
    "    X_train = X_train.T\n",
    "    Y_train = Y_train.T\n",
    "    \n",
    "    reshaped_y = Y_train.shape[0]\n",
    "    reshaped_x = X_train.shape[0]\n",
    "\n",
    "    w=np.zeros((reshaped_y, reshaped_x))\n",
    "    b=np.zeros((reshaped_y, 1))\n",
    "    learnedWeightValues , learnedBiasValues = optimize(w , b, Y_train , X_train , num_iterations, learning_rate)\n",
    "    \n",
    "    Y_prediction_train = sigmoid(np.dot(learnedWeightValues , X_train) + learnedBiasValues)\n",
    "\n",
    "    Y_prediction_train_val = np.asarray((list(map(lambda x : list(map(lambda x2 : int(round((x2))) , x)) , Y_prediction_train))))\n",
    "\n",
    "    print(\"train accuracy: {} %\".format(100 - np.mean(np.abs(Y_prediction_train_val - Y_train)) * 100))\n",
    "    \n",
    "    return learnedWeightValues , learnedBiasValues"
   ]
  },
  {
   "cell_type": "markdown",
   "metadata": {
    "deletable": true,
    "editable": true
   },
   "source": [
    "Invoke model function to learn weights and bias values.\n",
    "-------------------"
   ]
  },
  {
   "cell_type": "code",
   "execution_count": 16,
   "metadata": {
    "collapsed": false,
    "deletable": true,
    "editable": true
   },
   "outputs": [
    {
     "name": "stdout",
     "output_type": "stream",
     "text": [
      "-0.67328679514\n",
      "-0.945569018899\n",
      "-1.0702349213\n",
      "Final cost  -1.11880949918\n",
      "train accuracy: 86.29629629629629 %\n"
     ]
    }
   ],
   "source": [
    "learnedWeightValues , learnedBiasValues = model(X_train, Y_train, num_iterations = 50000, learning_rate = lrate)\n"
   ]
  },
  {
   "cell_type": "markdown",
   "metadata": {
    "deletable": true,
    "editable": true
   },
   "source": [
    "Classify a single example\n",
    "--------------"
   ]
  },
  {
   "cell_type": "code",
   "execution_count": 17,
   "metadata": {
    "collapsed": false,
    "deletable": true,
    "editable": true
   },
   "outputs": [],
   "source": [
    "def toClassify(newCase) : \n",
    "    newCasePrediction = sigmoid(np.dot(learnedWeightValues , newCase) + learnedBiasValues.T).flatten()\n",
    "    arr = []\n",
    "    for a in newCasePrediction : \n",
    "        arr.append(int(round(a)))\n",
    "\n",
    "    return np.asarray(arr)"
   ]
  },
  {
   "cell_type": "markdown",
   "metadata": {
    "deletable": true,
    "editable": true
   },
   "source": [
    "Evaluate model on test data\n",
    "---------------"
   ]
  },
  {
   "cell_type": "code",
   "execution_count": 18,
   "metadata": {
    "collapsed": false,
    "deletable": true,
    "editable": true
   },
   "outputs": [
    {
     "name": "stdout",
     "output_type": "stream",
     "text": [
      "Evaluation set accuracy :  62.22222222222222 %\n"
     ]
    }
   ],
   "source": [
    "numberSamples = len(X_test)\n",
    "\n",
    "correctPredictionCount = 0;\n",
    "for i in range(numberSamples) : \n",
    "    \n",
    "    newCase = X_test.as_matrix()[i]\n",
    "\n",
    "    if(np.array_equal(Y_test[i] , toClassify(newCase)) == True):\n",
    "        correctPredictionCount = correctPredictionCount + 1\n",
    "        \n",
    "print('Evaluation set accuracy : ' , correctPredictionCount / numberSamples * 100 , '%')"
   ]
  },
  {
   "cell_type": "markdown",
   "metadata": {
    "deletable": true,
    "editable": true
   },
   "source": [
    "Results\n",
    "----------\n",
    "\n",
    "10 repeated invocations of model result in following results."
   ]
  },
  {
   "cell_type": "code",
   "execution_count": 19,
   "metadata": {
    "collapsed": false,
    "deletable": true,
    "editable": true
   },
   "outputs": [
    {
     "data": {
      "text/html": [
       "<div>\n",
       "<table border=\"1\" class=\"dataframe\">\n",
       "  <thead>\n",
       "    <tr style=\"text-align: right;\">\n",
       "      <th></th>\n",
       "      <th>ID</th>\n",
       "      <th>LearningRate</th>\n",
       "      <th>NumberIterations</th>\n",
       "      <th>TrainingSetAccuracy</th>\n",
       "      <th>TestSetAccuracy</th>\n",
       "      <th>CostValue</th>\n",
       "    </tr>\n",
       "  </thead>\n",
       "  <tbody>\n",
       "    <tr>\n",
       "      <th>0</th>\n",
       "      <td>1</td>\n",
       "      <td>.0001</td>\n",
       "      <td>50000</td>\n",
       "      <td>84.4%</td>\n",
       "      <td>57.8%</td>\n",
       "      <td>-1.108</td>\n",
       "    </tr>\n",
       "    <tr>\n",
       "      <th>1</th>\n",
       "      <td>2</td>\n",
       "      <td>.0001</td>\n",
       "      <td>50000</td>\n",
       "      <td>85.2%</td>\n",
       "      <td>57.8%</td>\n",
       "      <td>-1.142</td>\n",
       "    </tr>\n",
       "    <tr>\n",
       "      <th>2</th>\n",
       "      <td>3</td>\n",
       "      <td>.0001</td>\n",
       "      <td>50000</td>\n",
       "      <td>86.3%</td>\n",
       "      <td>64.4%</td>\n",
       "      <td>-1.120</td>\n",
       "    </tr>\n",
       "    <tr>\n",
       "      <th>3</th>\n",
       "      <td>4</td>\n",
       "      <td>.0001</td>\n",
       "      <td>50000</td>\n",
       "      <td>85.9%</td>\n",
       "      <td>68.8%</td>\n",
       "      <td>-1.121</td>\n",
       "    </tr>\n",
       "    <tr>\n",
       "      <th>4</th>\n",
       "      <td>5</td>\n",
       "      <td>.0001</td>\n",
       "      <td>50000</td>\n",
       "      <td>76.7%</td>\n",
       "      <td>42.2%</td>\n",
       "      <td>-1.113</td>\n",
       "    </tr>\n",
       "    <tr>\n",
       "      <th>5</th>\n",
       "      <td>6</td>\n",
       "      <td>.0001</td>\n",
       "      <td>50000</td>\n",
       "      <td>82.59%</td>\n",
       "      <td>57.8%</td>\n",
       "      <td>-1.11</td>\n",
       "    </tr>\n",
       "    <tr>\n",
       "      <th>6</th>\n",
       "      <td>7</td>\n",
       "      <td>.0001</td>\n",
       "      <td>50000</td>\n",
       "      <td>85.92%</td>\n",
       "      <td>68.8%</td>\n",
       "      <td>-1.115</td>\n",
       "    </tr>\n",
       "    <tr>\n",
       "      <th>7</th>\n",
       "      <td>8</td>\n",
       "      <td>.0001</td>\n",
       "      <td>50000</td>\n",
       "      <td>84.07%</td>\n",
       "      <td>71.1%</td>\n",
       "      <td>-1.11</td>\n",
       "    </tr>\n",
       "    <tr>\n",
       "      <th>8</th>\n",
       "      <td>9</td>\n",
       "      <td>.0001</td>\n",
       "      <td>50000</td>\n",
       "      <td>84.81%</td>\n",
       "      <td>60.0%</td>\n",
       "      <td>-1.107</td>\n",
       "    </tr>\n",
       "    <tr>\n",
       "      <th>9</th>\n",
       "      <td>10</td>\n",
       "      <td>.0001</td>\n",
       "      <td>50000</td>\n",
       "      <td>85.56%</td>\n",
       "      <td>62.2%</td>\n",
       "      <td>-1.126</td>\n",
       "    </tr>\n",
       "  </tbody>\n",
       "</table>\n",
       "</div>"
      ],
      "text/plain": [
       "   ID LearningRate NumberIterations TrainingSetAccuracy TestSetAccuracy  \\\n",
       "0   1        .0001            50000               84.4%           57.8%   \n",
       "1   2        .0001            50000               85.2%           57.8%   \n",
       "2   3        .0001            50000               86.3%           64.4%   \n",
       "3   4        .0001            50000               85.9%           68.8%   \n",
       "4   5        .0001            50000               76.7%           42.2%   \n",
       "5   6        .0001            50000              82.59%           57.8%   \n",
       "6   7        .0001            50000              85.92%           68.8%   \n",
       "7   8        .0001            50000              84.07%           71.1%   \n",
       "8   9        .0001            50000              84.81%           60.0%   \n",
       "9  10        .0001            50000              85.56%           62.2%   \n",
       "\n",
       "  CostValue  \n",
       "0    -1.108  \n",
       "1    -1.142  \n",
       "2    -1.120  \n",
       "3    -1.121  \n",
       "4    -1.113  \n",
       "5     -1.11  \n",
       "6    -1.115  \n",
       "7     -1.11  \n",
       "8    -1.107  \n",
       "9    -1.126  "
      ]
     },
     "execution_count": 19,
     "metadata": {},
     "output_type": "execute_result"
    }
   ],
   "source": [
    "ndf = []\n",
    "\n",
    "ndf.append(('1','.0001','50000','84.4%','57.8%', '-1.108'))\n",
    "ndf.append(('2','.0001','50000','85.2%','57.8%', '-1.142'))\n",
    "ndf.append(('3','.0001','50000','86.3%','64.4%', '-1.120'))\n",
    "ndf.append(('4','.0001','50000','85.9%','68.8%', '-1.121'))\n",
    "ndf.append(('5','.0001','50000','76.7%','42.2%', '-1.113'))\n",
    "ndf.append(('6','.0001','50000','82.59%','57.8%', '-1.11'))\n",
    "ndf.append(('7','.0001','50000','85.92%','68.8%', '-1.115'))\n",
    "ndf.append(('8','.0001','50000','84.07%','71.1%', '-1.11'))\n",
    "ndf.append(('9','.0001','50000','84.81%','60.0%', '-1.107'))\n",
    "ndf.append(('10','.0001','50000','85.56%','62.2%', '-1.126'))\n",
    "toCC = pd.DataFrame(ndf)\n",
    "\n",
    "toCC.columns = ['ID' , 'LearningRate'  , 'NumberIterations' , 'TrainingSetAccuracy', 'TestSetAccuracy', 'CostValue']\n",
    "\n",
    "toCC"
   ]
  },
  {
   "cell_type": "code",
   "execution_count": 20,
   "metadata": {
    "collapsed": false,
    "deletable": true,
    "editable": true
   },
   "outputs": [
    {
     "name": "stdout",
     "output_type": "stream",
     "text": [
      "Average training set accruacy 84.14499999999998\n"
     ]
    }
   ],
   "source": [
    "trainAsFloat = list(map(lambda x : float(x.replace('%' , '')) , toCC['TrainingSetAccuracy'] ))\n",
    "print('Average training set accruacy' , sum(trainAsFloat)/len(trainAsFloat))"
   ]
  },
  {
   "cell_type": "code",
   "execution_count": 22,
   "metadata": {
    "collapsed": false,
    "deletable": true,
    "editable": true
   },
   "outputs": [
    {
     "name": "stdout",
     "output_type": "stream",
     "text": [
      "Average test set accruacy 61.09000000000001\n"
     ]
    }
   ],
   "source": [
    "testAsFloat = list(map(lambda x : float(x.replace('%' , '')) , toCC['TestSetAccuracy'] ))\n",
    "print('Average test set accruacy' , sum(testAsFloat)/len(testAsFloat))"
   ]
  },
  {
   "cell_type": "markdown",
   "metadata": {
    "deletable": true,
    "editable": true
   },
   "source": [
    "------------------------------"
   ]
  },
  {
   "cell_type": "markdown",
   "metadata": {
    "collapsed": true,
    "deletable": true,
    "editable": true
   },
   "source": [
    "Assignment End\n",
    "------------"
   ]
  },
  {
   "cell_type": "code",
   "execution_count": null,
   "metadata": {
    "collapsed": true,
    "deletable": true,
    "editable": true
   },
   "outputs": [],
   "source": []
  },
  {
   "cell_type": "code",
   "execution_count": null,
   "metadata": {
    "collapsed": true,
    "deletable": true,
    "editable": true
   },
   "outputs": [],
   "source": []
  },
  {
   "cell_type": "code",
   "execution_count": null,
   "metadata": {
    "collapsed": true,
    "deletable": true,
    "editable": true
   },
   "outputs": [],
   "source": []
  },
  {
   "cell_type": "code",
   "execution_count": null,
   "metadata": {
    "collapsed": true,
    "deletable": true,
    "editable": true
   },
   "outputs": [],
   "source": []
  }
 ],
 "metadata": {
  "coursera": {
   "course_slug": "neural-networks-deep-learning",
   "graded_item_id": "XaIWT",
   "launcher_item_id": "zAgPl"
  },
  "kernelspec": {
   "display_name": "Python 3",
   "language": "python",
   "name": "python3"
  },
  "language_info": {
   "codemirror_mode": {
    "name": "ipython",
    "version": 3
   },
   "file_extension": ".py",
   "mimetype": "text/x-python",
   "name": "python",
   "nbconvert_exporter": "python",
   "pygments_lexer": "ipython3",
   "version": "3.5.3"
  }
 },
 "nbformat": 4,
 "nbformat_minor": 2
}
