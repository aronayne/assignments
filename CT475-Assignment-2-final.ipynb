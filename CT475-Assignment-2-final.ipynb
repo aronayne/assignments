{
 "cells": [
  {
   "cell_type": "markdown",
   "metadata": {
    "deletable": true,
    "editable": true
   },
   "source": [
    "CT475-Assignment-2 Source code accompaniment\n",
    "----------------------\n",
    "__________________________\n",
    "\n",
    "Decision Tree and Logistic Regression Learning Curves\n",
    "-----------------------\n",
    "\n",
    "__________________________"
   ]
  },
  {
   "cell_type": "code",
   "execution_count": 1,
   "metadata": {
    "collapsed": true,
    "deletable": true,
    "editable": true
   },
   "outputs": [],
   "source": [
    "import pandas as pd\n",
    "import numpy as np\n",
    "from sklearn.tree import DecisionTreeClassifier\n",
    "import graphviz\n",
    "from sklearn import metrics\n",
    "from sklearn import tree\n",
    "from sklearn.metrics import accuracy_score\n",
    "from sklearn.tree import export_graphviz\n",
    "from sklearn.model_selection import cross_val_score\n",
    "from sklearn import linear_model\n",
    "from sklearn.model_selection import train_test_split\n",
    "from sklearn.model_selection import learning_curve\n",
    "from sklearn.utils import shuffle\n",
    "\n",
    "%matplotlib inline"
   ]
  },
  {
   "cell_type": "code",
   "execution_count": 2,
   "metadata": {
    "collapsed": false,
    "deletable": true,
    "editable": true
   },
   "outputs": [],
   "source": [
    "df = pd.read_csv('./illness.txt' , header = None).transpose()"
   ]
  },
  {
   "cell_type": "code",
   "execution_count": 3,
   "metadata": {
    "collapsed": false,
    "deletable": true,
    "editable": true
   },
   "outputs": [],
   "source": [
    "df.columns = ['plasmaglucose', 'bp' , 'test_result', 'skin_thickness', 'num_pregnancies', 'insulin' , 'bmi', 'pedigree', 'age']\n",
    "df[['skin_thickness']] = df[['skin_thickness']].astype(float)\n",
    "df[['insulin']] = df[['insulin']].astype(float)\n",
    "df[['plasmaglucose']] = df[['plasmaglucose']].astype(float)\n",
    "df[['bmi']] = df[['bmi']].astype(float)\n",
    "df[['skin_thickness']] = df[['skin_thickness']].astype(float)\n",
    "df[['num_pregnancies']] = df[['num_pregnancies']].astype(float)\n",
    "df[['age']] = df[['age']].astype(float)\n",
    "df[['pedigree']] = df[['pedigree']].astype(float)\n",
    "df[['bp']] = df[['bp']].astype(float)\n",
    "df.head(1)\n",
    "\n",
    "dfEncode = df['test_result']\n",
    "binaryEncoded = []\n",
    "for d in dfEncode : \n",
    "    if(d == 'positive'):\n",
    "        binaryEncoded.append(1)\n",
    "    else : \n",
    "        binaryEncoded.append(0)\n",
    "        \n",
    "binaryEncodedDF = pd.DataFrame(binaryEncoded)\n",
    "binaryEncodedDF.columns = ['test_result-encoded']\n",
    "binaryEncodedDF.head(5)\n",
    "\n",
    "concatDF = pd.concat([df, binaryEncodedDF], axis=1)\n",
    "concatDF.head(5)\n",
    "\n",
    "featureNames = ['plasmaglucose','bp','skin_thickness','num_pregnancies','insulin','bmi','pedigree','age']\n",
    "\n",
    "X = concatDF[featureNames].as_matrix()\n",
    "Y = concatDF[['test_result-encoded']].as_matrix()\n",
    "\n",
    "X_train, X_test, Y_train, Y_test = train_test_split(X, Y, test_size=0.2, random_state=0)"
   ]
  },
  {
   "cell_type": "markdown",
   "metadata": {
    "deletable": true,
    "editable": true
   },
   "source": [
    "Train Decision Tree classifier\n",
    "----------------------"
   ]
  },
  {
   "cell_type": "code",
   "execution_count": 4,
   "metadata": {
    "collapsed": true,
    "deletable": true,
    "editable": true
   },
   "outputs": [],
   "source": [
    "decisionTreeClassifier = DecisionTreeClassifier(criterion='entropy' , random_state=0)\n",
    "decisionTreeClassifier = decisionTreeClassifier.fit(X_train, Y_train)"
   ]
  },
  {
   "cell_type": "markdown",
   "metadata": {
    "deletable": true,
    "editable": true
   },
   "source": [
    "Plot classification accuracy on a held-out test set as a function of training dataset size.\n",
    "--------------------"
   ]
  },
  {
   "cell_type": "markdown",
   "metadata": {
    "deletable": true,
    "editable": true
   },
   "source": [
    "Define Learning Curve \n",
    "-------------------\n",
    "Amended from src : http://scikit-learn.org/stable/auto_examples/model_selection/plot_learning_curve.html"
   ]
  },
  {
   "cell_type": "code",
   "execution_count": 5,
   "metadata": {
    "collapsed": false,
    "deletable": true,
    "editable": true
   },
   "outputs": [
    {
     "name": "stdout",
     "output_type": "stream",
     "text": [
      "Automatically created module for IPython interactive environment\n"
     ]
    }
   ],
   "source": [
    "print(__doc__)\n",
    "\n",
    "import numpy as np\n",
    "import matplotlib.pyplot as plt\n",
    "from sklearn.naive_bayes import GaussianNB\n",
    "from sklearn.svm import SVC\n",
    "from sklearn.datasets import load_digits\n",
    "from sklearn.model_selection import learning_curve\n",
    "from sklearn.model_selection import ShuffleSplit\n",
    "\n",
    "\n",
    "def plot_learning_curve(estimator, title, X, y, ylim=None, cv=None,\n",
    "                        n_jobs=1, train_sizes=np.linspace(.1, 1.0, 5)):\n",
    "    \"\"\"\n",
    "    Generate a simple plot of the test and training learning curve.\n",
    "\n",
    "    Parameters\n",
    "    ----------\n",
    "    estimator : object type that implements the \"fit\" and \"predict\" methods\n",
    "        An object of that type which is cloned for each validation.\n",
    "\n",
    "    title : string\n",
    "        Title for the chart.\n",
    "\n",
    "    X : array-like, shape (n_samples, n_features)\n",
    "        Training vector, where n_samples is the number of samples and\n",
    "        n_features is the number of features.\n",
    "\n",
    "    y : array-like, shape (n_samples) or (n_samples, n_features), optional\n",
    "        Target relative to X for classification or regression;\n",
    "        None for unsupervised learning.\n",
    "\n",
    "    ylim : tuple, shape (ymin, ymax), optional\n",
    "        Defines minimum and maximum yvalues plotted.\n",
    "\n",
    "    cv : int, cross-validation generator or an iterable, optional\n",
    "        Determines the cross-validation splitting strategy.\n",
    "        Possible inputs for cv are:\n",
    "          - None, to use the default 3-fold cross-validation,\n",
    "          - integer, to specify the number of folds.\n",
    "          - An object to be used as a cross-validation generator.\n",
    "          - An iterable yielding train/test splits.\n",
    "\n",
    "        For integer/None inputs, if ``y`` is binary or multiclass,\n",
    "        :class:`StratifiedKFold` used. If the estimator is not a classifier\n",
    "        or if ``y`` is neither binary nor multiclass, :class:`KFold` is used.\n",
    "\n",
    "        Refer :ref:`User Guide <cross_validation>` for the various\n",
    "        cross-validators that can be used here.\n",
    "\n",
    "    n_jobs : integer, optional\n",
    "        Number of jobs to run in parallel (default 1).\n",
    "    \"\"\"\n",
    "    plt.figure()\n",
    "    plt.title(title)\n",
    "    if ylim is not None:\n",
    "        plt.ylim(*ylim)\n",
    "    plt.xlabel(\"Training examples\")\n",
    "    plt.ylabel(\"Score\")\n",
    "    train_sizes, train_scores, test_scores = learning_curve(\n",
    "        estimator, X, y, cv=cv, n_jobs=n_jobs, train_sizes=train_sizes)\n",
    "    train_scores_mean = np.mean(train_scores, axis=1)\n",
    "    train_scores_std = np.std(train_scores, axis=1)\n",
    "    test_scores_mean = np.mean(test_scores, axis=1)\n",
    "    test_scores_std = np.std(test_scores, axis=1)\n",
    "    plt.grid()\n",
    "\n",
    "    plt.fill_between(train_sizes, train_scores_mean - train_scores_std,\n",
    "                     train_scores_mean + train_scores_std, alpha=0.1,\n",
    "                     color=\"r\")\n",
    "    plt.fill_between(train_sizes, test_scores_mean - test_scores_std,\n",
    "                     test_scores_mean + test_scores_std, alpha=0.1, color=\"g\")\n",
    "    plt.plot(train_sizes, train_scores_mean, 'o-', color=\"r\",\n",
    "             label=\"Training score\")\n",
    "    plt.plot(train_sizes, test_scores_mean, 'o-', color=\"g\",\n",
    "             label=\"Cross-validation score\")\n",
    "\n",
    "    plt.legend(loc=\"best\")\n",
    "    return plt\n"
   ]
  },
  {
   "cell_type": "markdown",
   "metadata": {
    "deletable": true,
    "editable": true
   },
   "source": [
    "Shuffle test data set into folds\n",
    "----------------------\n",
    "\n",
    "Print index locations for each fold."
   ]
  },
  {
   "cell_type": "code",
   "execution_count": 6,
   "metadata": {
    "collapsed": false,
    "deletable": true,
    "editable": true
   },
   "outputs": [
    {
     "name": "stdout",
     "output_type": "stream",
     "text": [
      "\n",
      "TRAIN: [56  6 50 69  4 66 48  2 45 62 11 30  3 63 10 31 38 55  1 32 73 14 42 19 29\n",
      " 61 35 18  0 74 15  5 53 16 51 20 70  8 13 25 37 17 24 46 23 39 65 58 12 36\n",
      " 21  9 72 67 64 47 44] \n",
      "TEST: [52 57 22 75 28 26 71 54 34  7 43 59 41 40 33 68 27 49 60]\n",
      "\n",
      "TRAIN: [ 8 11 37  4  1 55 33 67 17 65 32 14 18 45 50 44  2 63 10 57  9 59 39 61 73\n",
      " 69 70 29 34 36 60 30 56 31  0 35 41  5 49 48 21 75 13 66 23 58 20 15 52  3\n",
      " 47 72  6 68 42 12 53] \n",
      "TEST: [ 7 24 27 64 74 51 43 22 19 26 40 46 25 62 71 38 16 54 28]\n",
      "\n",
      "TRAIN: [ 5 28 44 30 10 27 59 37  3 34 39 12 62 42  1 54 58 38 18 15 55  7 68 31 53\n",
      "  6 36 32 74 33 73 63 25 46 21 29 24 16 56 64 45 57 75 22 60 11  4 14 61 67\n",
      " 52 66 26 19 72 40 13] \n",
      "TEST: [70 41 17  9 69 48 47 20  2 51 49 50 43 23 65  8 71  0 35]\n",
      "\n",
      "TRAIN: [60 59 15 28 57 37 12 38 55  2 20 51 49 18 75 30 65 25 48 61 73 17  1  8 16\n",
      " 66 53 11  0 36 40  5 56 24 54 34 44 33 21 72  7 45 27 10 71 31 68 50 46  3\n",
      " 23 41  9 39 35 67 29] \n",
      "TEST: [42  4 43 13 47 14 69 62 26 63 70 58 32 52 22 19  6 64 74]\n"
     ]
    }
   ],
   "source": [
    "cvVal = ShuffleSplit(n_splits=4, train_size=0.75, test_size=0.25, random_state=0)\n",
    "\n",
    "for train_index, test_index in cvVal.split(X_test):\n",
    "    print(\"\\nTRAIN:\", train_index, \"\\nTEST:\", test_index)"
   ]
  },
  {
   "cell_type": "markdown",
   "metadata": {
    "deletable": true,
    "editable": true
   },
   "source": [
    "Decision Tree Learning Curve\n",
    "------------------"
   ]
  },
  {
   "cell_type": "code",
   "execution_count": 7,
   "metadata": {
    "collapsed": false,
    "deletable": true,
    "editable": true
   },
   "outputs": [
    {
     "data": {
      "text/plain": [
       "<module 'matplotlib.pyplot' from '/usr/lib/python3/dist-packages/matplotlib/pyplot.py'>"
      ]
     },
     "execution_count": 7,
     "metadata": {},
     "output_type": "execute_result"
    },
    {
     "data": {
      "image/png": "[encoded data removed]",
      "text/plain": [
       "<matplotlib.figure.Figure at 0x7f5aec703b00>"
      ]
     },
     "metadata": {},
     "output_type": "display_data"
    }
   ],
   "source": [
    "plot_learning_curve(decisionTreeClassifier, '',X_test,Y_test.ravel(), (0, 1), cv=cvVal)"
   ]
  },
  {
   "cell_type": "markdown",
   "metadata": {
    "deletable": true,
    "editable": true
   },
   "source": [
    "Logistic Regression - shuffle\n",
    "------------------\n",
    "\n",
    "There appears to exist a bug in the logistic regression classifier where if a fold does not contain all class labels the classifier returns an error while executing. As a work around to this bug shuffle the data prior to using the classifier. \n",
    "\n",
    "Note in order to generate a shuffle where all labels contained in each fold may need to run below cells multiple times.\n",
    "\n",
    "Further details : \n",
    "\n",
    "https://stackoverflow.com/questions/38138067/valueerror-this-solver-needs-samples-of-at-least-2-classes-in-the-data-but-the \n",
    "\n",
    "https://github.com/lensacom/sparkit-learn/issues/49 \n"
   ]
  },
  {
   "cell_type": "code",
   "execution_count": 10,
   "metadata": {
    "collapsed": true,
    "deletable": true,
    "editable": true
   },
   "outputs": [],
   "source": [
    "X_shuf, Y_shuf = shuffle(X_test, Y_test)\n",
    "\n",
    "logistic = linear_model.LogisticRegression(C=1e5 , random_state=0)\n",
    "logistic.fit(X_shuf, Y_shuf.ravel())\n",
    "\n",
    "cvValLog = ShuffleSplit(n_splits=4, train_size=0.75, test_size=0.25, random_state=0)"
   ]
  },
  {
   "cell_type": "markdown",
   "metadata": {
    "deletable": true,
    "editable": true
   },
   "source": [
    "Logistic Regression learning curve\n",
    "--------------"
   ]
  },
  {
   "cell_type": "code",
   "execution_count": 11,
   "metadata": {
    "collapsed": false,
    "deletable": true,
    "editable": true
   },
   "outputs": [
    {
     "data": {
      "text/plain": [
       "<module 'matplotlib.pyplot' from '/usr/lib/python3/dist-packages/matplotlib/pyplot.py'>"
      ]
     },
     "execution_count": 11,
     "metadata": {},
     "output_type": "execute_result"
    },
    {
     "data": {
      "image/png": "[encoded data removed]",
      "text/plain": [
       "<matplotlib.figure.Figure at 0x7f5ae922ce80>"
      ]
     },
     "metadata": {},
     "output_type": "display_data"
    }
   ],
   "source": [
    "plot_learning_curve(logistic, '',X_shuf, Y_shuf.ravel(), (0, 1), cv=cvValLog)"
   ]
  },
  {
   "cell_type": "markdown",
   "metadata": {
    "collapsed": false,
    "deletable": true,
    "editable": true
   },
   "source": [
    "Assignment End\n",
    "-------------------"
   ]
  },
  {
   "cell_type": "code",
   "execution_count": null,
   "metadata": {
    "collapsed": true,
    "deletable": true,
    "editable": true
   },
   "outputs": [],
   "source": []
  },
  {
   "cell_type": "code",
   "execution_count": null,
   "metadata": {
    "collapsed": false,
    "deletable": true,
    "editable": true
   },
   "outputs": [],
   "source": []
  },
  {
   "cell_type": "code",
   "execution_count": null,
   "metadata": {
    "collapsed": true,
    "deletable": true,
    "editable": true
   },
   "outputs": [],
   "source": []
  },
  {
   "cell_type": "code",
   "execution_count": null,
   "metadata": {
    "collapsed": true,
    "deletable": true,
    "editable": true
   },
   "outputs": [],
   "source": []
  }
 ],
 "metadata": {
  "kernelspec": {
   "display_name": "Python 3",
   "language": "python",
   "name": "python3"
  },
  "language_info": {
   "codemirror_mode": {
    "name": "ipython",
    "version": 3
   },
   "file_extension": ".py",
   "mimetype": "text/x-python",
   "name": "python",
   "nbconvert_exporter": "python",
   "pygments_lexer": "ipython3",
   "version": "3.5.3"
  }
 },
 "nbformat": 4,
 "nbformat_minor": 2
}
